{
 "cells": [
  {
   "cell_type": "code",
   "execution_count": 1,
   "metadata": {},
   "outputs": [],
   "source": [
    "import numpy as np\n",
    "import pandas as pd\n",
    "import seaborn as sn\n",
    "import scipy.stats as ss\n",
    "import matplotlib.pyplot as plt"
   ]
  },
  {
   "cell_type": "code",
   "execution_count": 9,
   "metadata": {},
   "outputs": [],
   "source": [
    "df = pd.read_csv(r'C:\\Users\\zali2\\MOCK_DATA (1).csv')\n",
    "data = df.Production5 #replace X with your designated number on the exam sheet"
   ]
  },
  {
   "cell_type": "code",
   "execution_count": 10,
   "metadata": {},
   "outputs": [
    {
     "data": {
      "text/plain": [
       "0      540\n",
       "1      537\n",
       "2      517\n",
       "3      493\n",
       "4      491\n",
       "5      522\n",
       "6      472\n",
       "7      478\n",
       "8      515\n",
       "9      525\n",
       "10     559\n",
       "11     556\n",
       "12     521\n",
       "13     504\n",
       "14     524\n",
       "15     502\n",
       "16     460\n",
       "17     518\n",
       "18     505\n",
       "19     502\n",
       "20     514\n",
       "21     476\n",
       "22     567\n",
       "23     508\n",
       "24     498\n",
       "25     470\n",
       "26     477\n",
       "27     543\n",
       "28     469\n",
       "29     475\n",
       "      ... \n",
       "970    513\n",
       "971    486\n",
       "972    508\n",
       "973    478\n",
       "974    549\n",
       "975    472\n",
       "976    533\n",
       "977    466\n",
       "978    464\n",
       "979    563\n",
       "980    505\n",
       "981    486\n",
       "982    520\n",
       "983    452\n",
       "984    518\n",
       "985    458\n",
       "986    506\n",
       "987    469\n",
       "988    514\n",
       "989    490\n",
       "990    480\n",
       "991    579\n",
       "992    508\n",
       "993    488\n",
       "994    562\n",
       "995    455\n",
       "996    455\n",
       "997    493\n",
       "998    456\n",
       "999    482\n",
       "Name: Production5, Length: 1000, dtype: int64"
      ]
     },
     "execution_count": 10,
     "metadata": {},
     "output_type": "execute_result"
    }
   ],
   "source": [
    "data"
   ]
  },
  {
   "cell_type": "code",
   "execution_count": 24,
   "metadata": {},
   "outputs": [],
   "source": [
    "X = np.array(data)"
   ]
  },
  {
   "cell_type": "code",
   "execution_count": 25,
   "metadata": {},
   "outputs": [
    {
     "name": "stdout",
     "output_type": "stream",
     "text": [
      "The Average is: 504.987\n"
     ]
    }
   ],
   "source": [
    "X_ave = np.average(X)\n",
    "print('The Average is:', x_ave)"
   ]
  },
  {
   "cell_type": "code",
   "execution_count": 26,
   "metadata": {},
   "outputs": [
    {
     "name": "stdout",
     "output_type": "stream",
     "text": [
      "The Variance of the sample is: 893.416247247\n"
     ]
    }
   ],
   "source": [
    "s_2 = np.var(X, ddof = 1)\n",
    "print('The Variance of the sample is:',s_2)"
   ]
  },
  {
   "cell_type": "code",
   "execution_count": 27,
   "metadata": {},
   "outputs": [
    {
     "name": "stdout",
     "output_type": "stream",
     "text": [
      "The Standard Deviation of the sample is: 29.8900693751\n"
     ]
    }
   ],
   "source": [
    "s = np.std(X, ddof = 1)\n",
    "print('The Standard Deviation of the sample is:', s)"
   ]
  },
  {
   "cell_type": "code",
   "execution_count": 28,
   "metadata": {},
   "outputs": [
    {
     "name": "stdout",
     "output_type": "stream",
     "text": [
      "The median of the sample is: 506.0\n"
     ]
    }
   ],
   "source": [
    "median = np.median(X)\n",
    "print('The median of the sample is:', median)"
   ]
  },
  {
   "cell_type": "code",
   "execution_count": 29,
   "metadata": {},
   "outputs": [
    {
     "data": {
      "image/png": "[encoded data removed]",
      "text/plain": [
       "<matplotlib.figure.Figure at 0x1d9faf8e1d0>"
      ]
     },
     "metadata": {},
     "output_type": "display_data"
    }
   ],
   "source": [
    "plt.boxplot(X)\n",
    "plt.annotate('      Largest value within 1.5*IQR',[1,np.max(X)])\n",
    "plt.annotate('         Third Quartile',[1,np.percentile(X, 75)])\n",
    "plt.annotate('         First Quartile',[1,np.percentile(X, 25)])\n",
    "plt.annotate('         Median',[1,np.median(X)])\n",
    "plt.annotate('      Smallest value within 1.5*IQR',[1,np.min(X)])\n",
    "plt.show()"
   ]
  },
  {
   "cell_type": "code",
   "execution_count": 32,
   "metadata": {},
   "outputs": [
    {
     "name": "stdout",
     "output_type": "stream",
     "text": [
      "There are 504.0 different ways that 9 wells can be split into 3 top three producing wells.\n"
     ]
    }
   ],
   "source": [
    "k = 3\n",
    "n = 9\n",
    "perms = np.math.factorial(n)/np.math.factorial(n-k)\n",
    "print('There are', perms, 'different ways that', n, 'wells can be split into', k, 'top three producing wells.')"
   ]
  },
  {
   "cell_type": "code",
   "execution_count": 33,
   "metadata": {},
   "outputs": [
    {
     "name": "stdout",
     "output_type": "stream",
     "text": [
      "There are 84.0 combinations of 3 objects chosen from 9 sized group of objects.\n"
     ]
    }
   ],
   "source": [
    "combs = np.math.factorial(n)/(np.math.factorial(k)*np.math.factorial(n-k))\n",
    "print('There are', combs, 'combinations of', k, 'objects chosen from', n, 'sized group of objects.')"
   ]
  },
  {
   "cell_type": "code",
   "execution_count": 34,
   "metadata": {},
   "outputs": [
    {
     "data": {
      "text/plain": [
       "(8.228432234251315, 8.3715677657486864)"
      ]
     },
     "execution_count": 34,
     "metadata": {},
     "output_type": "execute_result"
    }
   ],
   "source": [
    "n = 120\n",
    "X = 8.3\n",
    "sd = 0.4\n",
    "ss.norm.interval(.95, loc=X, scale=sd/np.sqrt(n))"
   ]
  },
  {
   "cell_type": "code",
   "execution_count": 35,
   "metadata": {},
   "outputs": [
    {
     "data": {
      "text/plain": [
       "(8.2059440124108978, 8.3940559875891037)"
      ]
     },
     "execution_count": 35,
     "metadata": {},
     "output_type": "execute_result"
    }
   ],
   "source": [
    "ss.norm.interval(.99, loc=X, scale=sd/np.sqrt(n))"
   ]
  },
  {
   "cell_type": "code",
   "execution_count": 36,
   "metadata": {},
   "outputs": [
    {
     "data": {
      "text/plain": [
       "0.99999999999985789"
      ]
     },
     "execution_count": 36,
     "metadata": {},
     "output_type": "execute_result"
    }
   ],
   "source": [
    "ci = 8.57\n",
    "z_sig = ci - X\n",
    "z = z_sig*np.sqrt(n)/sd\n",
    "1-(1-ss.norm.cdf(z))*2"
   ]
  },
  {
   "cell_type": "code",
   "execution_count": 37,
   "metadata": {},
   "outputs": [
    {
     "name": "stdout",
     "output_type": "stream",
     "text": [
      "126.0\n"
     ]
    }
   ],
   "source": [
    "z_sig = 0.07\n",
    "z = ss.norm.ppf(.975)\n",
    "n = (z*sd/z_sig)**2\n",
    "print(np.ceil(n))"
   ]
  },
  {
   "cell_type": "code",
   "execution_count": 39,
   "metadata": {},
   "outputs": [
    {
     "ename": "SyntaxError",
     "evalue": "invalid syntax (<ipython-input-39-92b730b0df5a>, line 1)",
     "output_type": "error",
     "traceback": [
      "\u001b[1;36m  File \u001b[1;32m\"<ipython-input-39-92b730b0df5a>\"\u001b[1;36m, line \u001b[1;32m1\u001b[0m\n\u001b[1;33m    = ss.norm.ppf(.995)\u001b[0m\n\u001b[1;37m    ^\u001b[0m\n\u001b[1;31mSyntaxError\u001b[0m\u001b[1;31m:\u001b[0m invalid syntax\n"
     ]
    }
   ],
   "source": [
    "= ss.norm.ppf(.995) \n",
    "n = (z*sd/z_sig)**2\n",
    "print(np.ceil(n))"
   ]
  },
  {
   "cell_type": "code",
   "execution_count": 40,
   "metadata": {},
   "outputs": [
    {
     "data": {
      "text/plain": [
       "array([ 0.41700602,  0.63061303])"
      ]
     },
     "execution_count": 40,
     "metadata": {},
     "output_type": "execute_result"
    }
   ],
   "source": [
    "n = 80\n",
    "X = 42\n",
    "\n",
    "def binom_CI(n,X,alpha):\n",
    "    n_hat = n+4\n",
    "    p_hat = (X+2) / n_hat\n",
    "    \n",
    "    z = ss.norm.ppf(1-alpha/2)\n",
    "    \n",
    "    ci = z*np.sqrt(p_hat*(1-p_hat)/n_hat)\n",
    "\n",
    "    return np.array([p_hat-ci, p_hat+ci])\n",
    "\n",
    "\n",
    "alpha = 1 - 0.95\n",
    "binom_CI(n,X,alpha)"
   ]
  },
  {
   "cell_type": "code",
   "execution_count": 41,
   "metadata": {},
   "outputs": [
    {
     "data": {
      "text/plain": [
       "array([ 0.4341772 ,  0.61344185])"
      ]
     },
     "execution_count": 41,
     "metadata": {},
     "output_type": "execute_result"
    }
   ],
   "source": [
    "alpha = 1 - 0.9\n",
    "binom_CI(n,X,alpha)"
   ]
  },
  {
   "cell_type": "code",
   "execution_count": 42,
   "metadata": {},
   "outputs": [
    {
     "data": {
      "image/png": "[encoded data removed]",
      "text/plain": [
       "<matplotlib.figure.Figure at 0x1d9fb3b2cf8>"
      ]
     },
     "metadata": {},
     "output_type": "display_data"
    }
   ],
   "source": [
    "X = np.array([13.1,13.3,12.9,12.8,13.2,13.3])\n",
    "plt.boxplot(X) \n",
    "plt.show()"
   ]
  },
  {
   "cell_type": "code",
   "execution_count": 43,
   "metadata": {},
   "outputs": [
    {
     "data": {
      "text/plain": [
       "(12.879868522974609, 13.32013147702539)"
      ]
     },
     "execution_count": 43,
     "metadata": {},
     "output_type": "execute_result"
    }
   ],
   "source": [
    "n = len(X)\n",
    "mean = np.mean(X)\n",
    "sd = np.std(X)\n",
    "df = n-1\n",
    "alpha = 0.95\n",
    "ss.t.interval(alpha, df, mean, ss.sem(X))"
   ]
  },
  {
   "cell_type": "code",
   "execution_count": null,
   "metadata": {},
   "outputs": [],
   "source": []
  }
 ],
 "metadata": {
  "kernelspec": {
   "display_name": "Python 3",
   "language": "python",
   "name": "python3"
  },
  "language_info": {
   "codemirror_mode": {
    "name": "ipython",
    "version": 3
   },
   "file_extension": ".py",
   "mimetype": "text/x-python",
   "name": "python",
   "nbconvert_exporter": "python",
   "pygments_lexer": "ipython3",
   "version": "3.6.3"
  }
 },
 "nbformat": 4,
 "nbformat_minor": 2
}
